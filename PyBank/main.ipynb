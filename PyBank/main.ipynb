{
 "cells": [
  {
   "cell_type": "code",
   "execution_count": 29,
   "metadata": {},
   "outputs": [],
   "source": [
    "#import csv:\n",
    "import csv"
   ]
  },
  {
   "cell_type": "code",
   "execution_count": 30,
   "metadata": {},
   "outputs": [],
   "source": [
    "#Initialize variables.\n",
    "month_count = 0\n",
    "total_pnl = 0\n",
    "current_pnl = 0 \n",
    "last_pnl = 0\n",
    "difference = 0\n",
    "\n",
    "# Create Lists\n",
    "pnlchange = []\n",
    "months = []"
   ]
  },
  {
   "cell_type": "code",
   "execution_count": 31,
   "metadata": {},
   "outputs": [],
   "source": [
    "#read csv and rename\n",
    "with open('budget_data.csv', 'r') as file:\n",
    "    budget = csv.reader(file)\n",
    "    \n",
    "#create header variable to understand data set and avoid including in subqeunt calculation. \n",
    "    header = next(budget)\n",
    "    #print(header) >> Date, Profit/Losses\n",
    "    \n",
    "#begin loop; assign random variable 'row' to list\n",
    "    for row in budget:\n",
    "\n",
    "#count number of months by adding 1 to each row of data, effectively counting all rows when iterated over the loop\n",
    "        month_count += 1\n",
    "\n",
    "#calculate total P/L over entire period \n",
    "        current_pnl = int(row[1]) #set current to profit/loss column\n",
    "        total_pnl += current_pnl\n",
    "\n",
    "#create formula to calculate the pnl difference from a given period to the prior period.         \n",
    "        if month_count == 1: #to skip first entry on list\n",
    "            last_pnl = current_pnl\n",
    "        else:\n",
    "            difference = current_pnl - last_pnl\n",
    "            months.append(row[0]) #append each month to month list\n",
    "            pnlchange.append(difference) #append result of formula to pnlchange list\n",
    "            last_pnl = current_pnl #set last = current so that loop iterates over each successive row, adding to list as it goes"
   ]
  },
  {
   "cell_type": "code",
   "execution_count": 32,
   "metadata": {},
   "outputs": [],
   "source": [
    "#calculate the average of the changes in Profit/Losses over the entire period. Must subtract 1 from total_months as there is one less observation\n",
    "avg_pnl_change = round((sum(pnlchange))/(month_count-1),2)"
   ]
  },
  {
   "cell_type": "code",
   "execution_count": 33,
   "metadata": {},
   "outputs": [],
   "source": [
    "# Determine most extreme values in pnlchange list\n",
    "min_change = min(pnlchange) #python min function\n",
    "min_change_index = pnlchange.index(min_change) #use index to locate min_change value on pnlchange list (returns row #)\n",
    "min_change_month = months[min_change_index] #assign the month corresponding to min_change; this step converts row # to month\n",
    "max_change = max(pnlchange) \n",
    "max_change_index = pnlchange.index(max_change)\n",
    "max_change_month = months[max_change_index]"
   ]
  },
  {
   "cell_type": "code",
   "execution_count": 34,
   "metadata": {},
   "outputs": [
    {
     "name": "stdout",
     "output_type": "stream",
     "text": [
      "Financial Analysis\n",
      "------------------\n",
      "Total Months: 86\n",
      "Total: $38382578\n",
      "Average Change: $-2315.12\n",
      "Greatest Increase in profits: Feb-12 $1926159\n",
      "Greatest Decrease in profits: Sep-13 $-2196167\n",
      "\n"
     ]
    }
   ],
   "source": [
    "#Putting it all together / print to terminal\n",
    "\n",
    "#Financial Analysis\n",
    "#----------------------------\n",
    "#Total Months: 86\n",
    "#Total: $38382578\n",
    "#Average  Change: $-2315.12\n",
    "#Greatest Increase in Profits: Feb-2012 ($1926159)\n",
    "#Greatest Decrease in Profits: Sep-2013 ($-2196167)\n",
    "\n",
    "output = (\n",
    "\"Financial Analysis\\n\"\n",
    "\"------------------\\n\"\n",
    "f\"Total Months: {month_count}\\n\"\n",
    "f\"Total: ${total_pnl}\\n\"\n",
    "f\"Average Change: ${avg_pnl_change}\\n\"\n",
    "f\"Greatest Increase in profits: {max_change_month} ${max_change}\\n\"\n",
    "f\"Greatest Decrease in profits: {min_change_month} ${min_change}\\n\")\n",
    "print(output)"
   ]
  },
  {
   "cell_type": "code",
   "execution_count": 35,
   "metadata": {},
   "outputs": [],
   "source": [
    "#Print output to text file\n",
    "with open('financial_results.txt', \"w\") as text:\n",
    "    text.write(output)    "
   ]
  }
 ],
 "metadata": {
  "kernelspec": {
   "display_name": "Python 3",
   "language": "python",
   "name": "python3"
  },
  "language_info": {
   "codemirror_mode": {
    "name": "ipython",
    "version": 3
   },
   "file_extension": ".py",
   "mimetype": "text/x-python",
   "name": "python",
   "nbconvert_exporter": "python",
   "pygments_lexer": "ipython3",
   "version": "3.7.9"
  }
 },
 "nbformat": 4,
 "nbformat_minor": 5
}
